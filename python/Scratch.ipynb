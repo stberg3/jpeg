{
 "cells": [
  {
   "cell_type": "code",
   "execution_count": 46,
   "id": "5fa8b82e-34e0-46d4-acce-fbef2c6c2874",
   "metadata": {},
   "outputs": [],
   "source": [
    "from PIL import Image\n",
    "\n",
    "with Image.open('chairs-smol.jpg', mode='r') as im:\n",
    "    \n",
    "    ycbcr = im.convert(mode='YCbCr')\n",
    "    for x in range(ycbcr.width):\n",
    "        for y in range(ycbcr.height):  \n",
    "            px = ycbcr.getpixel((x,y))\n",
    "            # ycbcr.putpixel((x,y), (px[0], px[1], px[2]))\n",
    "            ycbcr.putpixel((x,y), (0, px[1], px[2]))\n",
    "    ycbcr.save('test-4.jpg')"
   ]
  },
  {
   "cell_type": "code",
   "execution_count": 51,
   "id": "e05ff826-28ec-45b5-8147-34c04c54fe2f",
   "metadata": {},
   "outputs": [],
   "source": [
    "from PIL import Image\n",
    "\n",
    "with Image.open('chairs-smol.jpg', mode='r') as im:\n",
    "    \n",
    "    # ycbcr = im.convert(mode='YCbCr')\n",
    "    for x in range(ycbcr.width):\n",
    "        for y in range(ycbcr.height):  \n",
    "            px = im.getpixel((x,y))\n",
    "            # ycbcr.putpixel((x,y), (px[0], px[1], px[2]))\n",
    "            im.putpixel((x,y), (0, 0, px[2]))\n",
    "            im.putpixel((x,y), (0, 0, px[2]))\n",
    "            im.putpixel((x,y), (0, 0, px[2]))\n",
    "    im.save('test-rgb-b.jpg')"
   ]
  },
  {
   "cell_type": "code",
   "execution_count": 20,
   "id": "986c4fa1-6cb7-4cfd-80a2-ff8a96cfd7d8",
   "metadata": {},
   "outputs": [
    {
     "name": "stdout",
     "output_type": "stream",
     "text": [
      "1,2\n"
     ]
    }
   ],
   "source": [
    "print('{},{}'.format(1,2))"
   ]
  }
 ],
 "metadata": {
  "kernelspec": {
   "display_name": "Python 3 (ipykernel)",
   "language": "python",
   "name": "python3"
  },
  "language_info": {
   "codemirror_mode": {
    "name": "ipython",
    "version": 3
   },
   "file_extension": ".py",
   "mimetype": "text/x-python",
   "name": "python",
   "nbconvert_exporter": "python",
   "pygments_lexer": "ipython3",
   "version": "3.8.10"
  }
 },
 "nbformat": 4,
 "nbformat_minor": 5
}
