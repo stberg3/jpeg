{
 "cells": [
  {
   "cell_type": "code",
   "execution_count": 46,
   "id": "5fa8b82e-34e0-46d4-acce-fbef2c6c2874",
   "metadata": {},
   "outputs": [],
   "source": [
    "from PIL import Image\n",
    "\n",
    "with Image.open('chairs-smol.jpg', mode='r') as im:\n",
    "    \n",
    "    ycbcr = im.convert(mode='YCbCr')\n",
    "    for x in range(ycbcr.width):\n",
    "        for y in range(ycbcr.height):  \n",
    "            px = ycbcr.getpixel((x,y))\n",
    "            # ycbcr.putpixel((x,y), (px[0], px[1], px[2]))\n",
    "            ycbcr.putpixel((x,y), (0, px[1], px[2]))\n",
    "    ycbcr.save('test-4.jpg')"
   ]
  },
  {
   "cell_type": "code",
   "execution_count": 35,
   "id": "e05ff826-28ec-45b5-8147-34c04c54fe2f",
   "metadata": {},
   "outputs": [],
   "source": [
    "from PIL import Image\n",
    "\n",
    "with Image.open('chairs-smol.jpg', mode='r') as im:\n",
    "    \n",
    "    ycbcr = im.convert(mode='YCbCr')\n",
    "    for x in range(ycbcr.width):\n",
    "        for y in range(ycbcr.height):  \n",
    "            px = ycbcr.getpixel((x,y))            \n",
    "            ycbcr.putpixel((x,y), (px[0], 0, 0))\n",
    "            \n",
    "    ycbcr.save('test-YCbCr-YY.jpg')        \n",
    "    ycbcr = im.convert(mode='YCbCr')\n",
    "    \n",
    "    for x in range(ycbcr.width):\n",
    "        for y in range(ycbcr.height):  \n",
    "            px = ycbcr.getpixel((x,y))            \n",
    "            ycbcr.putpixel((x,y), (0, px[1], 0))\n",
    "\n",
    "    ycbcr.save('test-YCbCr-Cb.jpg')\n",
    "    ycbcr = im.convert(mode='YCbCr')\n",
    "        \n",
    "    for x in range(ycbcr.width):\n",
    "        for y in range(ycbcr.height):  \n",
    "            px = ycbcr.getpixel((x,y))\n",
    "            ycbcr.putpixel((x,y), (0, 0, px[2]))\n",
    "    ycbcr.save('test-YCbCr-Cr.jpg')"
   ]
  },
  {
   "cell_type": "code",
   "execution_count": 24,
   "id": "c9d4053e-6768-4a32-a2fe-d15056773490",
   "metadata": {},
   "outputs": [
    {
     "name": "stdout",
     "output_type": "stream",
     "text": [
      "('R', 'G', 'B')\n",
      "('Y', 'Cb', 'Cr')\n"
     ]
    }
   ],
   "source": [
    "with Image.open('chairs-smol.jpg') as im:\n",
    "    \n",
    "    ycbcr = im.convert(mode='YCbCr')\n",
    "    print(im.getbands())\n",
    "    print(ycbcr.getbands())"
   ]
  },
  {
   "cell_type": "code",
   "execution_count": 43,
   "id": "986c4fa1-6cb7-4cfd-80a2-ff8a96cfd7d8",
   "metadata": {},
   "outputs": [],
   "source": [
    "with Image.open('chairs-smol.jpg') as im:\n",
    "    \n",
    "    ycbcr = im.convert(mode='YCbCr')\n",
    "    with Image.open('test-YCbCr-YY.jpg', mode='r') as imYY:\n",
    "        with Image.open('test-YCbCr-Cb.jpg', mode='r') as imCb:\n",
    "            with Image.open('test-YCbCr-Cr.jpg', mode='r') as imCr:\n",
    "                for x in range(imYY.width):\n",
    "                    for y in range(imYY.height):  \n",
    "                        px = ycbcr.getpixel((x,y))\n",
    "\n",
    "#                         px_imYY = imYY.getpixel((x,y))[0]\n",
    "#                         px_imCb = imCb.getpixel((x,y))[1]\n",
    "#                         px_imCr = imCr.getpixel((x,y))[2]\n",
    "                        \n",
    "#     mix them up!\n",
    "                        px_imYY = imYY.getpixel((x,y))[1]\n",
    "                        px_imCb = imCb.getpixel((x,y))[2]\n",
    "                        px_imCr = imCr.getpixel((x,y))[0]\n",
    "                        color = (px_imYY, px_imCb, px_imCr)\n",
    "                        ycbcr.putpixel((x,y), color)\n",
    "                        # im.putpixel((x,y), (0,0,0))\n",
    "    ycbcr.save('chairs-YCbCr-combined-mixed-wrong.jpg')"
   ]
  },
  {
   "cell_type": "code",
   "execution_count": 52,
   "id": "39fe9a81-7b65-43a3-8d12-d2f7a4a3b35b",
   "metadata": {},
   "outputs": [],
   "source": [
    "with Image.open('chairs-smol.jpg', mode='r') as im:\n",
    "    big = im.resize((im.width*2, im.height*2))\n",
    "    \n",
    "    for x in range(imYY.width):\n",
    "        for y in range(imYY.height): \n",
    "            px = im.getpixel((x,y))\n",
    "            big.putpixel((x,y), px)\n",
    "\n",
    "    name = 'chairs-YCbCr-combined-6.jpg'\n",
    "    big.save(name)\n",
    "    big = Image.open(name)\n",
    "    ycbcr = big.convert(mode=\"YCbCr\")\n",
    "\n",
    "    for x in range(imYY.width):\n",
    "        for y in range(imYY.height): \n",
    "            px = im.getpixel((x,y))\n",
    "            color = (px[0], 0, 0)\n",
    "            ycbcr.putpixel((x+im.width,y+im.height), color)\n",
    "\n",
    "    for x in range(imYY.width):\n",
    "        for y in range(imYY.height):  \n",
    "            px = im.getpixel((x,y))\n",
    "            color = (0, px[1], 0)\n",
    "            ycbcr.putpixel((x,y+im.height), color)\n",
    "\n",
    "    for x in range(imYY.width):\n",
    "        for y in range(imYY.height):  \n",
    "            px = im.getpixel((x,y))\n",
    "\n",
    "            color = (0, 0, px[2])\n",
    "            ycbcr.putpixel((x+im.width,y), color)\n",
    "\n",
    "    ycbcr.save(name)"
   ]
  },
  {
   "cell_type": "code",
   "execution_count": 53,
   "id": "f12a7f9c-63ba-426a-8664-67ba4062f64a",
   "metadata": {},
   "outputs": [],
   "source": [
    "with Image.open('chairs-smol.jpg', mode='r') as im:\n",
    "    big = im.resize((im.width*2, im.height*2))\n",
    "    \n",
    "    for x in range(imYY.width):\n",
    "        for y in range(imYY.height): \n",
    "            px = im.getpixel((x,y))\n",
    "            big.putpixel((x,y), px)\n",
    "\n",
    "    name = 'chairs-RGB-combined-6.jpg'\n",
    "    big.save(name)\n",
    "    big = Image.open(name)\n",
    "    # ycbcr = big.convert(mode=\"YCbCr\")\n",
    "    \n",
    "    for x in range(imYY.width):\n",
    "        for y in range(imYY.height): \n",
    "            px = im.getpixel((x,y))\n",
    "            color = (px[0], 0, 0)\n",
    "            big.putpixel((x,y+im.height), color)\n",
    "\n",
    "    for x in range(imYY.width):\n",
    "        for y in range(imYY.height):  \n",
    "            px = im.getpixel((x,y))\n",
    "            color = (0, px[1], 0)\n",
    "            big.putpixel((x+im.width,y+im.height), color)\n",
    "\n",
    "    for x in range(imYY.width):\n",
    "        for y in range(imYY.height):  \n",
    "            px = im.getpixel((x,y))\n",
    "\n",
    "            color = (0, 0, px[2])\n",
    "            big.putpixel((x+im.width,y), color)\n",
    "    \n",
    "    big.save(name)"
   ]
  }
 ],
 "metadata": {
  "kernelspec": {
   "display_name": "Python 3 (ipykernel)",
   "language": "python",
   "name": "python3"
  },
  "language_info": {
   "codemirror_mode": {
    "name": "ipython",
    "version": 3
   },
   "file_extension": ".py",
   "mimetype": "text/x-python",
   "name": "python",
   "nbconvert_exporter": "python",
   "pygments_lexer": "ipython3",
   "version": "3.8.10"
  }
 },
 "nbformat": 4,
 "nbformat_minor": 5
}
